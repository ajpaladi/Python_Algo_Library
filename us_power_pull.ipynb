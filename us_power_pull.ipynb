{
 "cells": [
  {
   "cell_type": "code",
   "execution_count": 1,
   "id": "d29d753c-ace5-43df-afb5-74bae22c2301",
   "metadata": {},
   "outputs": [
    {
     "name": "stderr",
     "output_type": "stream",
     "text": [
      "/opt/anaconda3/lib/python3.9/site-packages/scipy/__init__.py:146: UserWarning: A NumPy version >=1.16.5 and <1.23.0 is required for this version of SciPy (detected version 1.24.2\n",
      "  warnings.warn(f\"A NumPy version >={np_minversion} and <{np_maxversion}\"\n",
      "/opt/anaconda3/lib/python3.9/site-packages/osmnx/utils.py:192: UserWarning: The `utils.config` function is deprecated and will be removed in a future release. Instead, use the `settings` module directly to configure a global setting's value. For example, `ox.settings.log_console=True`.\n",
      "  warnings.warn(\n"
     ]
    }
   ],
   "source": [
    "import asyncio\n",
    "import aiohttp\n",
    "import warnings\n",
    "import pandas as pd\n",
    "import geopandas as geo\n",
    "import numpy as np\n",
    "from tqdm import tqdm\n",
    "import os\n",
    "import plotly.express as px\n",
    "import uuid\n",
    "import osmnx as ox\n",
    "from keplergl import KeplerGl\n",
    "from shapely.geometry import Point, Polygon, MultiPolygon, MultiPolygon, MultiPoint\n",
    "from geopy.geocoders import Nominatim\n",
    "locator = Nominatim(user_agent=\"myGeocoder\")\n",
    "import requests\n",
    "\n",
    "ox.settings.log_console=True\n",
    "warnings.simplefilter(action='ignore', category=FutureWarning)\n",
    "\n",
    "#osmnx config timeout\n",
    "timeout = 10000\n",
    "ox.config(timeout=timeout)"
   ]
  },
  {
   "cell_type": "code",
   "execution_count": null,
   "id": "5b74d720-1aaa-4433-b030-8588c60b0dda",
   "metadata": {},
   "outputs": [],
   "source": [
    "async def fetch_data(session, geom, tags):\n",
    "    overpass_url = \"http://overpass-api.de/api/interpreter\"\n",
    "    overpass_query = ox.geometries.geometries_from_polygon_query(geom, tags)\n",
    "    async with session.get(overpass_url, params={'data': overpass_query}) as response:\n",
    "        return await response.text()\n",
    "\n",
    "async def get_data(geom, tags):\n",
    "    async with aiohttp.ClientSession() as session:\n",
    "        responses = await asyncio.gather(*[fetch_data(session, geom, tags) for _ in range(5)])\n",
    "    return responses\n",
    "\n",
    "us = geo.read_file('geojson/us_boundary.geojson')\n",
    "geom = us.geometry.iloc[0]\n",
    "tags = {'power': True} \n",
    "\n",
    "loop = asyncio.get_event_loop()\n",
    "\n",
    "try:\n",
    "    future = asyncio.run_coroutine_threadsafe(get_data(geom, tags), loop)\n",
    "    data = future.result()\n",
    "    osm_pull = pd.concat([ox.geometries.geometries_from_xml(data[i]).reset_index() for i in range(len(data))])\n",
    "    osm_pull.to_csv('us_pull.csv', index=False)\n",
    "finally:\n",
    "    loop.close()\n"
   ]
  },
  {
   "cell_type": "code",
   "execution_count": null,
   "id": "74350778-97e9-4843-9dd6-6c0a5fb8ef0e",
   "metadata": {},
   "outputs": [],
   "source": []
  }
 ],
 "metadata": {
  "kernelspec": {
   "display_name": "Python 3 (ipykernel)",
   "language": "python",
   "name": "python3"
  },
  "language_info": {
   "codemirror_mode": {
    "name": "ipython",
    "version": 3
   },
   "file_extension": ".py",
   "mimetype": "text/x-python",
   "name": "python",
   "nbconvert_exporter": "python",
   "pygments_lexer": "ipython3",
   "version": "3.9.12"
  }
 },
 "nbformat": 4,
 "nbformat_minor": 5
}
